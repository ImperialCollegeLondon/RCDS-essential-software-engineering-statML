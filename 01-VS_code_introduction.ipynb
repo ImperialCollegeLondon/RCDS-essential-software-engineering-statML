{
 "cells": [
  {
   "cell_type": "markdown",
   "metadata": {},
   "source": [
    "# Introduction to VS Code\n",
    "\n",
    "Visual Studio Code (VS Code) is a lightweight but powerful source code editor which can run on your computer, or remotely, such as in a GitHub codespace. It is available for Windows, macOS and Linux. It comes with built-in support for JavaScript, TypeScript and Node.js and has a rich ecosystem of extensions for other languages (such as C++, C#, Python, PHP, Go) and runtimes. As such, it is a powerful and popular tool for writing code."
   ]
  },
  {
   "cell_type": "markdown",
   "metadata": {},
   "source": [
    "## The Marketplace\n",
    "\n",
    "One of the key features of VS Code is the Marketplace. This is a collection of extensions that can be installed to add new languages, themes, debuggers, and to connect to additional services. You can access the Marketplace by clicking on the Extensions view icon on the Sidebar on the left or by pressing `Ctrl+Shift+X`. If you're looking at these notes on a Codespace, there should already be some extensions installed.\n",
    "\n",
    "By finding the extensions which support your use case, you can make VS Code a more productive tool for you, that matches your preferences."
   ]
  },
  {
   "cell_type": "markdown",
   "metadata": {},
   "source": [
    "## Viewing Files\n",
    "\n",
    "By clicking on the Explorer view icon on the Sidebar on the left or by pressing `Ctrl+Shift+E`, you can see the files in your workspace. You can view, create and arrange files and folders here. Typically, you will open a fodler that contains a project you're working on by clicking on the \"Open Folder\" button on the welcome screen or by selecting \"File\" -> \"Open Folder\" from the menu."
   ]
  },
  {
   "cell_type": "markdown",
   "metadata": {},
   "source": [
    "## Python Example\n",
    "\n",
    "We'll have a quick look at how to use VS Code to write and run a Python program. Do the following:\n",
    "\n",
    "* Create a `.py` file in the Explorer view by right-clicking on the folder and selecting \"New File\". Name it `hello.py`.\n",
    "* Start typing `print`. You will see a dropdown window with suggestions. You can press tab to select and insert the top suggestion, or scroll through them with the arrow keys. This is called autocompletion. \n",
    "* Complete the line with `print(\"Hello, World!\")`.\n",
    "* Hover over the `print` function. You will see a popup with information about the function. This is known as intelli-sense in VS Code. It can be a quick way to get information on the functions you are using.\n",
    "* Note the different colours of the text. This is called syntax highlighting. It can help you to quickly identify different parts of your code.\n",
    "* Write another print statement `print((1 + 2) * 3)`. Note, as you create open brackets, VS Code automatically creates the closed brackets.\n",
    "* Note the brackets are colour-coded to help spot which brackets match.\n",
    "* Delete the bracket after the 2. Note the squiggly lines which appears, letting you know there is an error. Hover over the squiggly line to see a brief error message.\n",
    "* At the top-right of the window click the \"Play\" button. Observe the output of the code in the terminal.\n",
    "* The terminal is a convenient place to access the command line in your OS. You can run commands here, such as `python hello.py` to run your Python program."
   ]
  },
  {
   "cell_type": "markdown",
   "metadata": {},
   "source": [
    "## Jupyter Notebook Example\n",
    "\n",
    "VS Code can also support Jupyter notebooks using the [Jupyter extension](https://marketplace.visualstudio.com/items?itemName=ms-toolsai.jupyter). This allows you to run code in cells and see the output in the notebook. When working on a larger project this allows you to edit and view all of your `.py` files and notebooks in the same interface.\n",
    "\n",
    "Run the code cell below."
   ]
  },
  {
   "cell_type": "code",
   "execution_count": 1,
   "metadata": {},
   "outputs": [
    {
     "name": "stdout",
     "output_type": "stream",
     "text": [
      "3\n"
     ]
    }
   ],
   "source": [
    "x = 1\n",
    "y = 2\n",
    "\n",
    "print(x + y)"
   ]
  },
  {
   "cell_type": "markdown",
   "metadata": {},
   "source": [
    "At the top of the window there are several buttons you can use to run the code, restart the kernel or clear outputs. If you click on the button \"Jupyter Variables\" you can also see a list of the variables in the current kernel.\n",
    "\n",
    "You can insert new markdown or code cells by clicking the buttons at the top of the screen, or hovering between cells and clicking the appropriate button that appears."
   ]
  },
  {
   "cell_type": "markdown",
   "metadata": {},
   "source": [
    "## Exercise\n",
    "\n",
    "Take a few minutes to write some code in `.py` filesand in the Jupyter Notebook. Try out some of the features of VS Code that we have discussed. "
   ]
  }
 ],
 "metadata": {
  "kernelspec": {
   "display_name": "Python 3",
   "language": "python",
   "name": "python3"
  },
  "language_info": {
   "codemirror_mode": {
    "name": "ipython",
    "version": 3
   },
   "file_extension": ".py",
   "mimetype": "text/x-python",
   "name": "python",
   "nbconvert_exporter": "python",
   "pygments_lexer": "ipython3",
   "version": "3.11.11"
  }
 },
 "nbformat": 4,
 "nbformat_minor": 2
}
